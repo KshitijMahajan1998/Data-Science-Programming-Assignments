{
 "cells": [
  {
   "cell_type": "code",
   "execution_count": 184,
   "id": "e2efbbb6",
   "metadata": {},
   "outputs": [],
   "source": [
    "import pandas as pd\n",
    "from pandas import Series, DataFrame\n",
    "import numpy as np"
   ]
  },
  {
   "cell_type": "code",
   "execution_count": 185,
   "id": "b388bec9",
   "metadata": {},
   "outputs": [
    {
     "data": {
      "text/plain": [
       "44633"
      ]
     },
     "execution_count": 185,
     "metadata": {},
     "output_type": "execute_result"
    }
   ],
   "source": [
    "df = pd.read_csv(\"NYC_Restaurants.csv\",dtype=str)\n",
    "df.head()\n",
    "#len(df.columns)\n",
    "df.columns\n",
    "len(df)"
   ]
  },
  {
   "cell_type": "markdown",
   "id": "18f5094f",
   "metadata": {},
   "source": [
    "#### Q.1. Create a unique name for each restaurant\n",
    "On the DataFrame created above, add a new column to your DataFrame, called ’RESTAURANT’, that combines DBA, BUILDING, STREET, ZIPCODE,and BORO fields. For example, “WENDY’S 469 FLATBUSH AVENUE 11225 BROOKLYN”. Print the first 10 values of the RESTAURANT column of your DataFrame."
   ]
  },
  {
   "cell_type": "code",
   "execution_count": 186,
   "id": "2ae27c0c",
   "metadata": {},
   "outputs": [
    {
     "data": {
      "text/plain": [
       "0                    WENDY'S 469 FLATBUSH AVENUE 11225\n",
       "1                    WENDY'S 469 FLATBUSH AVENUE 11225\n",
       "2                    WENDY'S 469 FLATBUSH AVENUE 11225\n",
       "3                    WENDY'S 469 FLATBUSH AVENUE 11225\n",
       "4                    WENDY'S 469 FLATBUSH AVENUE 11225\n",
       "5               TOV KOSHER KITCHEN 97-22 63 ROAD 11374\n",
       "6               TOV KOSHER KITCHEN 97-22 63 ROAD 11374\n",
       "7               TOV KOSHER KITCHEN 97-22 63 ROAD 11374\n",
       "8               TOV KOSHER KITCHEN 97-22 63 ROAD 11374\n",
       "9    BRUNOS ON THE BOULEVARD 8825 ASTORIA BOULEVARD...\n",
       "Name: RESTAURANT, dtype: object"
      ]
     },
     "execution_count": 186,
     "metadata": {},
     "output_type": "execute_result"
    }
   ],
   "source": [
    "df['RESTAURANT'] = df[['DBA','BUILDING','STREET','ZIPCODE']].apply(lambda x: \" \".join(x),axis = 1)\n",
    "df['RESTAURANT'][:10]"
   ]
  },
  {
   "cell_type": "markdown",
   "id": "2128c2a6",
   "metadata": {},
   "source": [
    "#### Q.2. How many restaurants are included in the data? \n",
    "Careful now:\n",
    "• A “Subway” in one particular address (i.e., building, street, zipcode,\n",
    "and boro) counts as one restaurant; don’t combine all Subways into\n",
    "one restaurant!\n",
    "• The data can have multiple violations for the same restaurant!"
   ]
  },
  {
   "cell_type": "code",
   "execution_count": 187,
   "id": "48e29901",
   "metadata": {},
   "outputs": [
    {
     "name": "stdout",
     "output_type": "stream",
     "text": [
      "Total Number of Restaurants :  10114\n"
     ]
    }
   ],
   "source": [
    "res_mask = df['RESTAURANT'].unique()\n",
    "print(\"Total Number of Restaurants : \",len(res_mask))"
   ]
  },
  {
   "cell_type": "markdown",
   "id": "e5dd98a9",
   "metadata": {},
   "source": [
    "#### Q.3. How many chains are there? \n",
    "Let us define a chain to be the same restaurant name occurring in at least two different (building, street, zipcode, boro) addresses (i.e., one DBA with multiple restaurant locations).\n",
    "You’ll see multiple versions of the name ”DUNKIN DONUTS”. Just act as if they are different chains."
   ]
  },
  {
   "cell_type": "code",
   "execution_count": 188,
   "id": "09b05982",
   "metadata": {
    "scrolled": true
   },
   "outputs": [
    {
     "data": {
      "text/plain": [
       "368"
      ]
     },
     "execution_count": 188,
     "metadata": {},
     "output_type": "execute_result"
    }
   ],
   "source": [
    "df_uniq_res = df.drop_duplicates(subset='RESTAURANT')\n",
    "chains_mask = df_uniq_res['DBA'].value_counts().values > 1\n",
    "chains_mask.sum()                                                 "
   ]
  },
  {
   "cell_type": "markdown",
   "id": "d5315df8",
   "metadata": {},
   "source": [
    "#### Q.4.Plot a bar graph of the top 20 most popular chains.\n",
    "We already have the chains from the previous problem. Count the number of restaurants for each chain as a measure of its popularity."
   ]
  },
  {
   "cell_type": "code",
   "execution_count": 247,
   "id": "f204a9e5",
   "metadata": {},
   "outputs": [
    {
     "data": {
      "text/plain": [
       "<AxesSubplot:>"
      ]
     },
     "execution_count": 247,
     "metadata": {},
     "output_type": "execute_result"
    },
    {
     "data": {
      "image/png": "[encoded data removed]",
      "text/plain": [
       "<Figure size 432x288 with 1 Axes>"
      ]
     },
     "metadata": {
      "needs_background": "light"
     },
     "output_type": "display_data"
    }
   ],
   "source": [
    "df_uniq_res['DBA'].value_counts()[:20].plot(kind='bar')"
   ]
  },
  {
   "cell_type": "markdown",
   "id": "c6da1398",
   "metadata": {},
   "source": [
    "#### Q.5. What fraction of all restaurants are chain restaurants?\n",
    "You should think of a restaurant as being one restaurant at one location. So “Wendy’s 5th Street” and “Wendy’s on 10th Street” are two different restaurants. Essentially a restaurant is what you defined in Q1."
   ]
  },
  {
   "cell_type": "code",
   "execution_count": 249,
   "id": "47855384",
   "metadata": {},
   "outputs": [
    {
     "name": "stdout",
     "output_type": "stream",
     "text": [
      "Fraction of all restaurants which are chain restaurants :  0.16472216729286138\n"
     ]
    }
   ],
   "source": [
    "'''\n",
    "Using the dataframe referring to the unique restaurants based on address.\n",
    "Computing the actual sum of restaurants for which the sum is more than 1.\n",
    "'''\n",
    "non_chains= sum(df_uniq_res['DBA'].value_counts()==1)\n",
    "chain_res_fraction = (len(res_mask) - non_chains)/len(res_mask)\n",
    "\n",
    "print(\"Fraction of all restaurants which are chain restaurants : \", chain_res_fraction)"
   ]
  },
  {
   "cell_type": "markdown",
   "id": "c3a426b3",
   "metadata": {},
   "source": [
    "#### Q.6. Plot the number of non-chain restaurants in each boro. \n",
    "First, we need to figure out all the non-chain restaurants, then select out only those restaurants, and finally plot the number of such restaurants by boro. Make sure to look at the plot; we don’t want to see... oh... the “missing” boro."
   ]
  },
  {
   "cell_type": "code",
   "execution_count": 327,
   "id": "c37b2087",
   "metadata": {
    "scrolled": true
   },
   "outputs": [
    {
     "data": {
      "text/plain": [
       "<AxesSubplot:>"
      ]
     },
     "execution_count": 327,
     "metadata": {},
     "output_type": "execute_result"
    },
    {
     "data": {
      "image/png": "[encoded data removed]",
      "text/plain": [
       "<Figure size 432x288 with 1 Axes>"
      ]
     },
     "metadata": {
      "needs_background": "light"
     },
     "output_type": "display_data"
    }
   ],
   "source": [
    "#Replacing 'Missing' Borough names with NaN values\n",
    "df_uniq_res= df_uniq_res.replace('Missing',np.nan)\n",
    "\n",
    "# #Dropping rows with NaN values\n",
    "df_uniq_res.dropna()\n",
    "\n",
    "# #Creating unique mask for restaurants to find non-chain restaurants - value would be 1 for them\n",
    "uniq_mask = (df_uniq_res['DBA'].value_counts() == 1)\n",
    "\n",
    "#Creating dataframe using value_counts() output as a dictionary\n",
    "df_non_chain = pd.DataFrame({'DBA':uniq_mask.index, 'is_non_chain':uniq_mask.values})\n",
    "\n",
    "\n",
    "#Adding a column using apply function to assign True - non-chain restaurants value of 1.\n",
    "df_non_chain['is_non_chain']= df_non_chain['is_non_chain'].apply(lambda x : 1 if x == True else 0)\n",
    "\n",
    "#Merging the dataframe created with mask with the unique restaurant list using the DBA column.\n",
    "uniq_res_merge = df_uniq_res.merge(df_non_chain,left_on='DBA',right_on='DBA')\n",
    "\n",
    "#Selecting all non-chain columns to group with their respective BORO.\n",
    "uniq_res_merge['BORO'][uniq_res_merge['is_non_chain'] == 1].value_counts().plot(kind='bar')"
   ]
  },
  {
   "cell_type": "markdown",
   "id": "6c95a6e0",
   "metadata": {},
   "source": [
    "#### Q.7.Plot the fraction of non-chain restaurants in each boro. \n",
    "The boro with the most non-chain restaurants might just be the boro with the most restaurants in general. If we want to find the boro that attracts the most “independent” restauranteurs, we must divide the number of non-chain restaurants by the total number of restaurants in the boro. Plot this.\n",
    "Is the boro with the most independent restaurants also the one with the highest ratio of independent restaurants?"
   ]
  },
  {
   "cell_type": "code",
   "execution_count": 255,
   "id": "69266159",
   "metadata": {},
   "outputs": [
    {
     "data": {
      "text/plain": [
       "<AxesSubplot:>"
      ]
     },
     "execution_count": 255,
     "metadata": {},
     "output_type": "execute_result"
    },
    {
     "data": {
      "image/png": "[encoded data removed]",
      "text/plain": [
       "<Figure size 432x288 with 1 Axes>"
      ]
     },
     "metadata": {
      "needs_background": "light"
     },
     "output_type": "display_data"
    }
   ],
   "source": [
    "total_non_chain = uniq_res_merge['BORO'].value_counts()\n",
    "non_chain_res = uniq_res_merge['BORO'][uniq_res_merge['is_non_chain'] == 1].value_counts()\n",
    "(non_chain_res/total_non_chain).plot(kind='bar')"
   ]
  },
  {
   "cell_type": "markdown",
   "id": "bd477d72",
   "metadata": {},
   "source": [
    "#### Q.8. Plot the popularity of cuisines. \n",
    "Which cuisines are the most well-represented among all restaurants? Define the popularity of a cuisine as the number of restaurants serving that cuisine. Plot the popularity of the top 20 cuisines."
   ]
  },
  {
   "cell_type": "code",
   "execution_count": 328,
   "id": "72fa312e",
   "metadata": {},
   "outputs": [
    {
     "data": {
      "text/plain": [
       "<AxesSubplot:>"
      ]
     },
     "execution_count": 328,
     "metadata": {},
     "output_type": "execute_result"
    },
    {
     "data": {
      "image/png": "[encoded data removed]",
      "text/plain": [
       "<Figure size 432x288 with 1 Axes>"
      ]
     },
     "metadata": {
      "needs_background": "light"
     },
     "output_type": "display_data"
    }
   ],
   "source": [
    "#Using uniq_res_merge dataframe which contains list of unique restaurants - 'DBA' and 'RESTAURANT' unique pairs.\n",
    "uniq_res_merge['CUISINE DESCRIPTION'].value_counts()[:20].plot(kind='bar')"
   ]
  },
  {
   "cell_type": "markdown",
   "id": "bd9d9092",
   "metadata": {},
   "source": [
    "#### Q.9.Plot the cuisines among restaurants which never got cited for violations. \n",
    "Ideally, you should explore and see what happens when there is no violation, but here I will just tell you: the ’VIOLATION\n",
    "CODE’ field is missing. First, find the restaurants that were never cited for a code violation. The compute the popularity of each cuisine among these “clean” restaurants. Plot the popularity of the top-20 among these cuisines."
   ]
  },
  {
   "cell_type": "code",
   "execution_count": 366,
   "id": "758e15e2",
   "metadata": {},
   "outputs": [
    {
     "data": {
      "text/plain": [
       "<AxesSubplot:>"
      ]
     },
     "execution_count": 366,
     "metadata": {},
     "output_type": "execute_result"
    },
    {
     "data": {
      "image/png": "[encoded data removed]",
      "text/plain": [
       "<Figure size 432x288 with 1 Axes>"
      ]
     },
     "metadata": {
      "needs_background": "light"
     },
     "output_type": "display_data"
    }
   ],
   "source": [
    "violation_mask=uniq_res_merge['VIOLATION CODE'].isna()\n",
    "res_no_viol = uniq_res_merge[violation_mask]\n",
    "res_no_viol['CUISINE DESCRIPTION'].value_counts()[:20].plot(kind='bar')"
   ]
  },
  {
   "cell_type": "code",
   "execution_count": 354,
   "id": "e526dd74",
   "metadata": {},
   "outputs": [
    {
     "data": {
      "text/plain": [
       "Index(['Unnamed: 0', 'CAMIS', 'DBA', 'BORO', 'BUILDING', 'STREET', 'ZIPCODE',\n",
       "       'PHONE', 'CUISINE DESCRIPTION', 'INSPECTION DATE', 'ACTION',\n",
       "       'VIOLATION CODE', 'VIOLATION DESCRIPTION', 'CRITICAL FLAG', 'SCORE',\n",
       "       'GRADE', 'GRADE DATE', 'RECORD DATE', 'INSPECTION TYPE', 'RESTAURANT',\n",
       "       'is_non_chain_x', 'is_non_chain_y', 'is_non_chain', 'Violation Status'],\n",
       "      dtype='object')"
      ]
     },
     "execution_count": 354,
     "metadata": {},
     "output_type": "execute_result"
    }
   ],
   "source": [
    "uniq_res_merge.columns"
   ]
  },
  {
   "cell_type": "markdown",
   "id": "c16f3004",
   "metadata": {},
   "source": [
    "#### Q.10. What cuisines tend to be the “cleanest”?\n",
    "• Select all cuisines for which there were at least 20 restaurants representing that cuisine.\n",
    "• For each such cuisine, compute the ratio of the counts in Q9 to Q8.This is the ratio of restaurants that never got cited, versus total number of restaurants, for each cuisine.\n",
    "• Find the top-10 cuisines with the highest ratios; these are that cuisines whose restaurants are “most likely to be clean.”"
   ]
  },
  {
   "cell_type": "code",
   "execution_count": 349,
   "id": "54aae94d",
   "metadata": {},
   "outputs": [
    {
     "data": {
      "text/html": [
       "<div>\n",
       "<style scoped>\n",
       "    .dataframe tbody tr th:only-of-type {\n",
       "        vertical-align: middle;\n",
       "    }\n",
       "\n",
       "    .dataframe tbody tr th {\n",
       "        vertical-align: top;\n",
       "    }\n",
       "\n",
       "    .dataframe thead th {\n",
       "        text-align: right;\n",
       "    }\n",
       "</style>\n",
       "<table border=\"1\" class=\"dataframe\">\n",
       "  <thead>\n",
       "    <tr style=\"text-align: right;\">\n",
       "      <th></th>\n",
       "      <th></th>\n",
       "      <th>RESTAURANT</th>\n",
       "    </tr>\n",
       "    <tr>\n",
       "      <th>CUISINE DESCRIPTION</th>\n",
       "      <th>Violation Status</th>\n",
       "      <th></th>\n",
       "    </tr>\n",
       "  </thead>\n",
       "  <tbody>\n",
       "    <tr>\n",
       "      <th rowspan=\"2\" valign=\"top\">Afghan</th>\n",
       "      <th>0</th>\n",
       "      <td>BAHAR MASALA 984 CONEY ISLAND AVENUE 11230</td>\n",
       "    </tr>\n",
       "    <tr>\n",
       "      <th>1</th>\n",
       "      <td>AFGHAN KEBAB HOUSE #1 764 9 AVENUE 10019BAKHTE...</td>\n",
       "    </tr>\n",
       "    <tr>\n",
       "      <th rowspan=\"2\" valign=\"top\">African</th>\n",
       "      <th>0</th>\n",
       "      <td>EYE ADOM AFRICAN &amp; SPANISH RESTAURANT 1263 EDW...</td>\n",
       "    </tr>\n",
       "    <tr>\n",
       "      <th>1</th>\n",
       "      <td>HALAL COFFEE SHOP RESTAURANT 1150       SHERMA...</td>\n",
       "    </tr>\n",
       "    <tr>\n",
       "      <th>American</th>\n",
       "      <th>0</th>\n",
       "      <td>GLORIOUS FOOD 522 EAST   74 STREET 10021DOMINO...</td>\n",
       "    </tr>\n",
       "    <tr>\n",
       "      <th>...</th>\n",
       "      <th>...</th>\n",
       "      <td>...</td>\n",
       "    </tr>\n",
       "    <tr>\n",
       "      <th rowspan=\"2\" valign=\"top\">Turkish</th>\n",
       "      <th>0</th>\n",
       "      <td>OPERA CAFE LOUNGE 2255 EMMONS AVENUE 11235</td>\n",
       "    </tr>\n",
       "    <tr>\n",
       "      <th>1</th>\n",
       "      <td>KEBAB HOUSE 25505 NORTHERN BOULEVARD 11362TURK...</td>\n",
       "    </tr>\n",
       "    <tr>\n",
       "      <th>Vegetarian</th>\n",
       "      <th>1</th>\n",
       "      <td>CANDLE CAFE 1307 3 AVENUE 10021VILLAGE NATURAL...</td>\n",
       "    </tr>\n",
       "    <tr>\n",
       "      <th rowspan=\"2\" valign=\"top\">Vietnamese/Cambodian/Malaysia</th>\n",
       "      <th>0</th>\n",
       "      <td>PHO BANG RESTAURANT 157 MOTT STREET 10013PHO V...</td>\n",
       "    </tr>\n",
       "    <tr>\n",
       "      <th>1</th>\n",
       "      <td>PHO BAC VIETNAMESE SEAFOOD CUISINE 8278       ...</td>\n",
       "    </tr>\n",
       "  </tbody>\n",
       "</table>\n",
       "<p>126 rows × 1 columns</p>\n",
       "</div>"
      ],
      "text/plain": [
       "                                                                                       RESTAURANT\n",
       "CUISINE DESCRIPTION           Violation Status                                                   \n",
       "Afghan                        0                        BAHAR MASALA 984 CONEY ISLAND AVENUE 11230\n",
       "                              1                 AFGHAN KEBAB HOUSE #1 764 9 AVENUE 10019BAKHTE...\n",
       "African                       0                 EYE ADOM AFRICAN & SPANISH RESTAURANT 1263 EDW...\n",
       "                              1                 HALAL COFFEE SHOP RESTAURANT 1150       SHERMA...\n",
       "American                      0                 GLORIOUS FOOD 522 EAST   74 STREET 10021DOMINO...\n",
       "...                                                                                           ...\n",
       "Turkish                       0                        OPERA CAFE LOUNGE 2255 EMMONS AVENUE 11235\n",
       "                              1                 KEBAB HOUSE 25505 NORTHERN BOULEVARD 11362TURK...\n",
       "Vegetarian                    1                 CANDLE CAFE 1307 3 AVENUE 10021VILLAGE NATURAL...\n",
       "Vietnamese/Cambodian/Malaysia 0                 PHO BANG RESTAURANT 157 MOTT STREET 10013PHO V...\n",
       "                              1                 PHO BAC VIETNAMESE SEAFOOD CUISINE 8278       ...\n",
       "\n",
       "[126 rows x 1 columns]"
      ]
     },
     "execution_count": 349,
     "metadata": {},
     "output_type": "execute_result"
    }
   ],
   "source": [
    "clean_res_cuisine = pd.pivot_table(uniq_res_merge, values='RESTAURANT', index=['CUISINE DESCRIPTION','Violation Status'],\n",
    "                    aggfunc=np.sum)\n",
    "clean_res_cuisine"
   ]
  },
  {
   "cell_type": "code",
   "execution_count": null,
   "id": "77fbc69b",
   "metadata": {},
   "outputs": [],
   "source": []
  }
 ],
 "metadata": {
  "kernelspec": {
   "display_name": "Python 3 (ipykernel)",
   "language": "python",
   "name": "python3"
  },
  "language_info": {
   "codemirror_mode": {
    "name": "ipython",
    "version": 3
   },
   "file_extension": ".py",
   "mimetype": "text/x-python",
   "name": "python",
   "nbconvert_exporter": "python",
   "pygments_lexer": "ipython3",
   "version": "3.9.12"
  }
 },
 "nbformat": 4,
 "nbformat_minor": 5
}
